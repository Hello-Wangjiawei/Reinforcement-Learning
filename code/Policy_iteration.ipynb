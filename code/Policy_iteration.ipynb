{
 "cells": [
  {
   "cell_type": "code",
   "execution_count": 3,
   "id": "a1a54828",
   "metadata": {},
   "outputs": [],
   "source": [
    "import numpy as np\n",
    "# Generate environment,'#' is forbidden area,'x' is target area\n",
    "env = np.array([\n",
    "    ['*','*','*','*','*'],\n",
    "    ['*','#','#','*','*'],\n",
    "    ['*','*','#','*','*'],\n",
    "    ['*','#','x','#','*'],\n",
    "    ['*','#','*','*','*']\n",
    "])"
   ]
  },
  {
   "attachments": {
    "image.png": {
     "image/png": "[encoded data removed]"
    }
   },
   "cell_type": "markdown",
   "id": "93c2a9e1",
   "metadata": {},
   "source": [
    "![image.png](attachment:image.png)"
   ]
  },
  {
   "cell_type": "code",
   "execution_count": 27,
   "id": "9df711d4",
   "metadata": {},
   "outputs": [
    {
     "name": "stdout",
     "output_type": "stream",
     "text": [
      "→ → → → ↓ \n",
      "\n",
      "↑ ↑ → → ↓ \n",
      "\n",
      "↑ ← ↓ → ↓ \n",
      "\n",
      "↑ → O ← ↓ \n",
      "\n",
      "↑ → ↑ ← ← \n",
      "\n",
      "[[3.48676321 3.8741837  4.30465091 4.78294781 5.31438881]\n",
      " [3.13808477 3.48676321 4.78294781 5.31438881 5.90487881]\n",
      " [2.82427418 2.54184464 9.99997881 5.90487881 6.56097881]\n",
      " [2.54184464 9.99997881 9.99997881 9.99997881 7.28997881]\n",
      " [2.28765806 8.99997881 9.99997881 8.99997881 8.09997881]]\n"
     ]
    }
   ],
   "source": [
    "class PolicyIteration:\n",
    "     def __init__(self, env, _lambda,k,threshold = 1e-3):\n",
    "        self.env = env\n",
    "        self._lambda = _lambda # discount rate\n",
    "        self.k = k # maximum number of iterations\n",
    "        self.threshold = threshold # threshold for convergence\n",
    "\n",
    "        self.m,self.n = self.env.shape\n",
    "        self.action_num = 5\n",
    "        self.v = np.zeros((self.m,self.n)) # State value\n",
    "        self.policy = np.ones((self.m,self.n),dtype=int) * 4 # optimal policy,default action is stay\n",
    "\n",
    "     def next_state(self,x,y,a):\n",
    "        \"\"\"return the next state index\"\"\"\n",
    "        xx, yy = [-1, 0, 1, 0, 0], [0, 1, 0, -1, 0] # action space（up, right, down, left, stay）\n",
    "        isBoundary = 0\n",
    "        x_next = x + xx[a]\n",
    "        y_next = y + yy[a]\n",
    "        if x_next < 0 or x_next >= self.m or y_next < 0 or y_next >= self.n: \n",
    "            x_next, y_next = x, y # boundary\n",
    "        if (x_next,y_next) == (x,y) and a != 4:\n",
    "            isBoundary = 1\n",
    "        return x_next, y_next, isBoundary\n",
    "        \n",
    "     def policy_evaluation(self):\n",
    "        \"\"\"policy evaluation\"\"\"\n",
    "        while True:\n",
    "            # Policy evaluation\n",
    "            while True:\n",
    "                delta = 0 # ||Vk - Vk-1||\n",
    "                v_old = self.v.copy()\n",
    "                for x in range(self.m):\n",
    "                    for y in range(self.n):\n",
    "                        x_next, y_next, isBoundary = self.next_state(x,y,self.policy[x,y])\n",
    "                        reward = 0\n",
    "                        # target area\n",
    "                        if env[x_next,y_next] == \"x\" and isBoundary == 0:\n",
    "                            reward = 1\n",
    "                        elif isBoundary == 1:\n",
    "                            reward = -1\n",
    "                        # forbiden area\n",
    "                        elif env[x_next,y_next] == \"#\":\n",
    "                            reward = -10\n",
    "                        # iteration State value\n",
    "                        self.v[x,y] = reward + self._lambda * v_old[x_next,y_next]\n",
    "                delta = np.linalg.norm(self.v - v_old)\n",
    "                if delta < self.threshold:\n",
    "                    break\n",
    "            # print(self.v)\n",
    "            # Policy improvement\n",
    "            qk = np.zeros((self.m,self.n,self.action_num)) # action value\n",
    "            for x in range(self.m):\n",
    "                for y in range(self.n):\n",
    "                    for a in range(self.action_num):\n",
    "                        x_next, y_next ,isBoundary = self.next_state(x,y,a)\n",
    "                        reward = 0\n",
    "                         # target area\n",
    "                        if env[x_next,y_next] == \"x\" and isBoundary == 0:\n",
    "                            reward = 1\n",
    "                        elif isBoundary == 1:\n",
    "                            reward = -1\n",
    "                        # forbiden area\n",
    "                        elif env[x_next,y_next] == \"#\":\n",
    "                            reward = -10\n",
    "                        qk[x,y,a] = reward + self._lambda * self.v[x_next,y_next]\n",
    "                    # optimal policy\n",
    "                    self.policy[x,y] = np.argmax(qk[x,y])\n",
    "            # self.show_policy()\n",
    "            self.k -= 1\n",
    "            if self.k == 0:\n",
    "                break\n",
    "\n",
    "     def show_policy(self):\n",
    "        \"\"\"show the optimal policy\"\"\"\n",
    "        s = \"↑→↓←O\" # action display\n",
    "        for x in range(self.m):\n",
    "            for y in range(self.n):\n",
    "                print(s[self.policy[x,y]], end=\" \")\n",
    "            print(\"\\n\")\n",
    "        print(self.v)\n",
    "\n",
    "if __name__ == \"__main__\":  \n",
    "    pi = PolicyIteration(env, _lambda=0.9, k=10)\n",
    "    pi.policy_evaluation()\n",
    "    pi.show_policy()\n"
   ]
  }
 ],
 "metadata": {
  "kernelspec": {
   "display_name": "base",
   "language": "python",
   "name": "python3"
  },
  "language_info": {
   "codemirror_mode": {
    "name": "ipython",
    "version": 3
   },
   "file_extension": ".py",
   "mimetype": "text/x-python",
   "name": "python",
   "nbconvert_exporter": "python",
   "pygments_lexer": "ipython3",
   "version": "3.12.3"
  }
 },
 "nbformat": 4,
 "nbformat_minor": 5
}
