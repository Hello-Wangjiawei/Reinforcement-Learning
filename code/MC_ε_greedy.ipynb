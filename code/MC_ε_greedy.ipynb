{
 "cells": [
  {
   "cell_type": "code",
   "execution_count": null,
   "id": "a9203ca8",
   "metadata": {},
   "outputs": [
    {
     "ename": "SyntaxError",
     "evalue": "incomplete input (3643780819.py, line 48)",
     "output_type": "error",
     "traceback": [
      "\u001b[1;36m  Cell \u001b[1;32mIn[1], line 48\u001b[1;36m\u001b[0m\n\u001b[1;33m    \u001b[0m\n\u001b[1;37m    ^\u001b[0m\n\u001b[1;31mSyntaxError\u001b[0m\u001b[1;31m:\u001b[0m incomplete input\n"
     ]
    }
   ],
   "source": [
    "import numpy as np\n",
    "# Generate environment,'#' is forbidden area,'x' is target area\n",
    "env = np.array([\n",
    "    ['*','*','*','*','*'],\n",
    "    ['*','#','#','*','*'],\n",
    "    ['*','*','#','*','*'],\n",
    "    ['*','#','x','#','*'],\n",
    "    ['*','#','*','*','*']\n",
    "])\n",
    "\n",
    "class mc_epsilon_greedy:\n",
    "    def __init__(self, env, _lambda,k,step = 100,threshold = 1e-3):\n",
    "        self.env = env\n",
    "        self._lambda = _lambda # discount rate\n",
    "        self.k = k # maximum number of iterations\n",
    "        self.step = step # number of steps in each episode\n",
    "        self.threshold = threshold # threshold for convergence\n",
    "\n",
    "        self.m,self.n = self.env.shape\n",
    "        self.action_num = 5\n",
    "        self.v = np.zeros((self.m,self.n)) # State value\n",
    "        self.policy = np.zeros((self.m,self.n),dtype=int) # optimal policy\n",
    "\n",
    "    def next_state(self,x,y,a):\n",
    "        \"\"\"return the next state index\"\"\"\n",
    "        xx, yy = [-1, 0, 1, 0, 0], [0, 1, 0, -1, 0] # action space（up, right, down, left, stay）\n",
    "        reward = 0\n",
    "        isboundary = False\n",
    "        x_next = x + xx[a]\n",
    "        y_next = y + yy[a]\n",
    "        # check the boundary\n",
    "        if x_next < 0 or x_next >= self.m or y_next < 0 or y_next >= self.n: \n",
    "            x_next, y_next = x, y\n",
    "            isborder = True\n",
    "        # target area\n",
    "        if self.env[x_next,y_next] == 'x' and not isboundary:\n",
    "            reward = 1\n",
    "        # boundary area\n",
    "        elif isboundary:\n",
    "            reward = -1\n",
    "        # forbidden area\n",
    "        elif self.env[x_next,y_next] == '#': \n",
    "            reward = -10\n",
    "        return x_next, y_next, reward\n",
    "\n",
    "    def generate_episode(self):\n",
    "        \"\"\"generate an episode\"\"\"\n",
    "        \n",
    "\n",
    "\n",
    "            \n",
    "    def show_policy(self):\n",
    "        \"\"\"show the optimal policy\"\"\"\n",
    "        s = \"↑→↓←O\" # action display\n",
    "        for x in range(self.m):\n",
    "            for y in range(self.n):\n",
    "                print(s[self.policy[x,y]], end=\" \")\n",
    "            print(\"\\n\")\n",
    "        print(self.v)\n",
    "        \n",
    "if __name__ == \"__main__\":\n",
    "    "
   ]
  }
 ],
 "metadata": {
  "kernelspec": {
   "display_name": "base",
   "language": "python",
   "name": "python3"
  },
  "language_info": {
   "codemirror_mode": {
    "name": "ipython",
    "version": 3
   },
   "file_extension": ".py",
   "mimetype": "text/x-python",
   "name": "python",
   "nbconvert_exporter": "python",
   "pygments_lexer": "ipython3",
   "version": "3.12.3"
  }
 },
 "nbformat": 4,
 "nbformat_minor": 5
}
