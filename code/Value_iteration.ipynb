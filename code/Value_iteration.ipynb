{
 "cells": [
  {
   "cell_type": "code",
   "execution_count": 3,
   "id": "8afc81fd",
   "metadata": {},
   "outputs": [
    {
     "name": "stdout",
     "output_type": "stream",
     "text": [
      "(2, 2)\n"
     ]
    }
   ],
   "source": [
    "import numpy as np\n",
    "# Generate environment,'#' is forbidden area,'x' is target area\n",
    "env = np.array([\n",
    "    ['*','#'],\n",
    "    ['*','x']\n",
    "])\n",
    "# action space（up, right, down, left, stay）\n",
    "xx, yy = [-1, 0, 1, 0, 0], [0, 1, 0, -1, 0]  \n",
    "# action display\n",
    "s = \"↑→↓←O\"  \n",
    "print(env.shape)"
   ]
  },
  {
   "cell_type": "code",
   "execution_count": null,
   "id": "95397f13",
   "metadata": {},
   "outputs": [],
   "source": [
    "class ValueIteration:\n",
    "    def __init__(self, env, _lambda,k,threshold):\n",
    "        self.env = env\n",
    "        self._lambda = _lambda # discount rate\n",
    "        self.k = k # maximum number of iterations\n",
    "        self.threshold = threshold # threshold for convergence\n",
    "        self.State = None # current state\n",
    "        self.reward = None \n",
    "\n",
    "    def init_matrix(self):\n",
    "        \n",
    "\n",
    "        \n"
   ]
  }
 ],
 "metadata": {
  "kernelspec": {
   "display_name": "base",
   "language": "python",
   "name": "python3"
  },
  "language_info": {
   "codemirror_mode": {
    "name": "ipython",
    "version": 3
   },
   "file_extension": ".py",
   "mimetype": "text/x-python",
   "name": "python",
   "nbconvert_exporter": "python",
   "pygments_lexer": "ipython3",
   "version": "3.12.3"
  }
 },
 "nbformat": 4,
 "nbformat_minor": 5
}
