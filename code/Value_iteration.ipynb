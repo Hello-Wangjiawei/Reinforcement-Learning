{
 "cells": [
  {
   "cell_type": "code",
   "execution_count": null,
   "id": "8afc81fd",
   "metadata": {},
   "outputs": [
    {
     "name": "stdout",
     "output_type": "stream",
     "text": [
      "(3, 3)\n"
     ]
    }
   ],
   "source": [
    "import numpy as np\n",
    "# Generate environment,'#' is forbidden area,'x' is target area\n",
    "env = np.array([\n",
    "    ['*','*','*'],\n",
    "    ['*','*','#'],\n",
    "    ['#','*','x']\n",
    "])"
   ]
  },
  {
   "attachments": {
    "image-2.png": {
     "image/png": "[encoded data removed]"
    }
   },
   "cell_type": "markdown",
   "id": "a0a97bf7",
   "metadata": {},
   "source": [
    "![image-2.png](attachment:image-2.png)"
   ]
  },
  {
   "cell_type": "code",
   "execution_count": null,
   "id": "95397f13",
   "metadata": {},
   "outputs": [
    {
     "name": "stdout",
     "output_type": "stream",
     "text": [
      "-------k = 5-----------\n",
      "→ → ← \n",
      "\n",
      "↑ ↑ ↓ \n",
      "\n",
      "↑ → O \n",
      "\n",
      "[[0. 0. 0.]\n",
      " [0. 0. 1.]\n",
      " [0. 1. 1.]]\n",
      "-------k = 4-----------\n",
      "→ → ← \n",
      "\n",
      "↑ ↓ ↓ \n",
      "\n",
      "→ → O \n",
      "\n",
      "[[0.  0.  0. ]\n",
      " [0.  0.9 1.9]\n",
      " [0.9 1.9 1.9]]\n",
      "-------k = 3-----------\n",
      "→ ↓ ← \n",
      "\n",
      "→ ↓ ↓ \n",
      "\n",
      "→ → O \n",
      "\n",
      "[[0.   0.81 0.  ]\n",
      " [0.81 1.71 2.71]\n",
      " [1.71 2.71 2.71]]\n",
      "-------k = 2-----------\n",
      "→ ↓ ← \n",
      "\n",
      "→ ↓ ↓ \n",
      "\n",
      "→ → O \n",
      "\n",
      "[[0.729 1.539 0.729]\n",
      " [1.539 2.439 3.439]\n",
      " [2.439 3.439 3.439]]\n",
      "-------k = 1-----------\n",
      "→ ↓ ← \n",
      "\n",
      "→ ↓ ↓ \n",
      "\n",
      "→ → O \n",
      "\n",
      "[[1.3851 2.1951 1.3851]\n",
      " [2.1951 3.0951 4.0951]\n",
      " [3.0951 4.0951 4.0951]]\n"
     ]
    }
   ],
   "source": [
    "class ValueIteration:\n",
    "    def __init__(self, env, _lambda,k,threshold = 1e-3):\n",
    "        self.env = env\n",
    "        self._lambda = _lambda # discount rate\n",
    "        self.k = k # maximum number of iterations\n",
    "        self.threshold = threshold # threshold for convergence\n",
    "\n",
    "        self.m,self.n = self.env.shape\n",
    "        self.action_num = 5\n",
    "        self.v = np.zeros((self.m,self.n)) # State value\n",
    "        self.policy = np.zeros((self.m,self.n),dtype=int) # optimal policy\n",
    "\n",
    "    def next_state(self,x,y,a):\n",
    "        \"\"\"return the next state index\"\"\"\n",
    "        xx, yy = [-1, 0, 1, 0, 0], [0, 1, 0, -1, 0] # action space（up, right, down, left, stay）\n",
    "        isBoundary = 0\n",
    "        x_next = x + xx[a]\n",
    "        y_next = y + yy[a]\n",
    "        if x_next < 0 or x_next >= self.m or y_next < 0 or y_next >= self.n: \n",
    "            x_next, y_next = x, y # boundary\n",
    "        if (x_next,y_next) == (x,y) and a != 4:\n",
    "            isBoundary = 1\n",
    "        return x_next, y_next, isBoundary\n",
    "\n",
    "    def value_iteration(self):\n",
    "        \"\"\"value iteration\"\"\"\n",
    "        while True:\n",
    "            delta = 0 # ||Vk - Vk-1||\n",
    "            v_old = self.v.copy()\n",
    "            # calculate the action value of all State\n",
    "            qk = np.zeros((self.m,self.n,self.action_num)) # action value\n",
    "            for x in range(self.m):\n",
    "                for y in range(self.n):\n",
    "                    for a in range(self.action_num):\n",
    "                        x_next, y_next ,isBoundary = self.next_state(x,y,a)\n",
    "                        reward = 0\n",
    "                        # target area\n",
    "                        if env[x_next,y_next] == \"x\" and isBoundary == 0:\n",
    "                            reward = 1\n",
    "                         # forbiden area or boundary\n",
    "                        elif env[x_next,y_next] == \"#\" or isBoundary == 1 :\n",
    "                            reward = -10\n",
    "                        qk[x,y,a] = reward + self._lambda * self.v[x_next,y_next]\n",
    "                    # optimal policy\n",
    "                    self.policy[x,y] = np.argmax(qk[x,y])\n",
    "            # update state value\n",
    "            for x in range(self.m):\n",
    "                for y in range(self.n):\n",
    "                    self.v[x,y] = np.max(qk[x,y])\n",
    "            print(\"------------------------\")\n",
    "            self.show_policy()\n",
    "            # convergence check\n",
    "            self.k -= 1\n",
    "            delta = np.linalg.norm(self.v - v_old)\n",
    "            if delta < self.threshold or self.k == 0:\n",
    "                break\n",
    "\n",
    "    def show_policy(self):\n",
    "        \"\"\"show the optimal policy\"\"\"\n",
    "        s = \"↑→↓←O\" # action display\n",
    "        for x in range(self.m):\n",
    "            for y in range(self.n):\n",
    "                print(s[self.policy[x,y]], end=\" \")\n",
    "            print(\"\\n\")\n",
    "        print(self.v)\n",
    "        \n",
    "if __name__ == \"__main__\":\n",
    "    vi = ValueIteration(env,_lambda=0.9,k=5)\n",
    "    vi.value_iteration()\n",
    "    # vi.show_policy()\n",
    "         \n",
    "            "
   ]
  }
 ],
 "metadata": {
  "kernelspec": {
   "display_name": "base",
   "language": "python",
   "name": "python3"
  },
  "language_info": {
   "codemirror_mode": {
    "name": "ipython",
    "version": 3
   },
   "file_extension": ".py",
   "mimetype": "text/x-python",
   "name": "python",
   "nbconvert_exporter": "python",
   "pygments_lexer": "ipython3",
   "version": "3.12.3"
  }
 },
 "nbformat": 4,
 "nbformat_minor": 5
}
